{
 "cells": [
  {
   "cell_type": "code",
   "execution_count": 2,
   "metadata": {},
   "outputs": [],
   "source": [
    "#updaing products table hw 5 \n",
    "\n",
    "#connecting to database and creating ConformedProducts.txt table\n",
    "import sqlite3\n",
    "\n",
    "# Connect to the SQLite database\n",
    "conn = sqlite3.connect('products.db')\n",
    "cursor = conn.cursor()\n",
    "\n",
    "# Create a temporary table to store the data from ConformedProducts.txt\n",
    "cursor.execute(\"\"\"\n",
    "    CREATE TEMP TABLE temp_products (\n",
    "        ProductKey1 INTEGER,\n",
    "        sku TEXT,\n",
    "        product_name TEXT,\n",
    "        product_class_id INTEGER,\n",
    "        subcategory TEXT,\n",
    "        category TEXT,\n",
    "        department TEXT,\n",
    "        product_family TEXT,\n",
    "        size TEXT,\n",
    "        brandName TEXT,\n",
    "        supplier TEXT\n",
    "    )\n",
    "\"\"\")\n",
    "\n",
    "# Load data from ConformedProducts.txt into the temporary table\n",
    "with open('ConformedProducts.txt', 'r') as file:\n",
    "    next(file)  # Skip header line\n",
    "    for line in file:\n",
    "        fields = line.strip().split('\\t')\n",
    "        cursor.execute(\"\"\"\n",
    "            INSERT INTO temp_products (ProductKey1, sku, product_name, product_class_id, subcategory, category, department, product_family, size, brandName, supplier)\n",
    "            VALUES (?, ?, ?, ?, ?, ?, ?, ?, ?, ?, ?)\n",
    "        \"\"\", fields)\n"
   ]
  },
  {
   "cell_type": "code",
   "execution_count": null,
   "metadata": {},
   "outputs": [],
   "source": [
    "# Update records with null values in the subcategory column (DO NOT RUN THIS YET)\n",
    "cursor.execute(\"\"\"\n",
    "    UPDATE temp_products\n",
    "    SET subcategory = 'YourDefaultValue'\n",
    "    WHERE subcategory IS NULL\n",
    "\"\"\")\n",
    "\n"
   ]
  },
  {
   "cell_type": "code",
   "execution_count": null,
   "metadata": {},
   "outputs": [],
   "source": [
    "#this is to update the ConformedProducts.txt file\n",
    "#MAY OR MAY NOT NEED\n",
    "\n",
    "# Update subcategory based on product name\n",
    "cursor.execute(\"\"\"\n",
    "    UPDATE products\n",
    "    SET subcategory = (\n",
    "        SELECT subcategory\n",
    "        FROM temp_product_class\n",
    "        WHERE products.product_name = temp_product_class.product_name\n",
    "    )\n",
    "    WHERE EXISTS (\n",
    "        SELECT 1\n",
    "        FROM temp_product_class\n",
    "        WHERE products.product_name = temp_product_class.product_name\n",
    "    )\n",
    "\"\"\")\n",
    "\n",
    "# Handle null subcategory values\n",
    "cursor.execute(\"\"\"\n",
    "    UPDATE products\n",
    "    SET subcategory = 'Other'\n",
    "    WHERE subcategory IS NULL\n",
    "\"\"\")\n",
    "\n",
    "# Update subcategory for obsolete item types\n",
    "obsolete_item_types = ['Obsolete_Type1', 'Obsolete_Type2', 'Obsolete_Type3']  # Example list of obsolete item types\n",
    "for item_type in obsolete_item_types:\n",
    "    cursor.execute(\"\"\"\n",
    "        UPDATE products\n",
    "        SET subcategory = 'Other'\n",
    "        WHERE item_type = ?\n",
    "    \"\"\", (item_type,))\n",
    "\n",
    "# Commit the changes and close the connection\n",
    "conn.commit()\n",
    "conn.close()"
   ]
  }
 ],
 "metadata": {
  "kernelspec": {
   "display_name": "Python 3",
   "language": "python",
   "name": "python3"
  },
  "language_info": {
   "codemirror_mode": {
    "name": "ipython",
    "version": 3
   },
   "file_extension": ".py",
   "mimetype": "text/x-python",
   "name": "python",
   "nbconvert_exporter": "python",
   "pygments_lexer": "ipython3",
   "version": "3.12.2"
  }
 },
 "nbformat": 4,
 "nbformat_minor": 2
}
