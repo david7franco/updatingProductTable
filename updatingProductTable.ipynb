{
 "cells": [
  {
   "cell_type": "code",
   "execution_count": 29,
   "metadata": {},
   "outputs": [],
   "source": [
    "#updaing products table hw 5 \n",
    "\n",
    "#connecting to database and creating ConformedProducts.txt table\n",
    "import sqlite3\n",
    "\n",
    "# Connect to the SQLite database\n",
    "conn = sqlite3.connect('products.db')\n",
    "cur = conn.cursor()\n",
    "\n",
    "# Create a temporary table to store the data from ConformedProducts.txt\n",
    "cur.execute(\"\"\"\n",
    "    CREATE TABLE ConformedProducts (\n",
    "        ProductKey1 INTEGER,\n",
    "        sku TEXT,\n",
    "        product_name TEXT,\n",
    "        product_class_id INTEGER,\n",
    "        subcategory TEXT,\n",
    "        category TEXT,\n",
    "        department TEXT,\n",
    "        product_family TEXT,\n",
    "        size TEXT,\n",
    "        brandName TEXT,\n",
    "        supplier TEXT\n",
    "    )\n",
    "\"\"\")\n",
    "\n",
    "# Load data from ConformedProducts.txt into the temporary table\n",
    "with open('ConformedProducts.txt', 'r') as file:\n",
    "    next(file)  # Skip header line\n",
    "    for line in file:\n",
    "        fields = line.strip().split('\\t')\n",
    "        cur.execute(\"\"\"\n",
    "            INSERT INTO ConformedProducts (ProductKey1, sku, product_name, product_class_id, subcategory, category, department, product_family, size, brandName, supplier)\n",
    "            VALUES (?, ?, ?, ?, ?, ?, ?, ?, ?, ?, ?)\n",
    "        \"\"\", fields)\n",
    "\n",
    "conn.commit()"
   ]
  },
  {
   "cell_type": "code",
   "execution_count": 31,
   "metadata": {},
   "outputs": [
    {
     "name": "stdout",
     "output_type": "stream",
     "text": [
      "(1, '42081001', 'Jambalaya Rice Mix', 57, 'Rice', 'Starchy Foods', 'Starchy Foods', 'Food', '12 oz', 'Zatarains', 'Rowan Warehouse')\n",
      "(2, '42082001', 'Jambalaya Rice Mix', 57, 'Rice', 'Starchy Foods', 'Starchy Foods', 'Food', '8 oz', 'Zatarains', 'Rowan Warehouse')\n",
      "(3, '42083001', 'Guacamole Regular', 99, 'Fresh Fruit', 'Fruit', 'Produce', 'Food', '8 oz', 'Yucatan', 'Rowan Warehouse')\n",
      "(4, '42084001', 'Coffee Original Blend', 90, 'Coffee', 'Hot Beverages', 'Beverages', 'Drink', '12 oz', 'Yuban', 'Rowan Warehouse')\n",
      "(5, '42085001', 'GoGurt Variety Pack', 6, 'Yogurt', 'Dairy', 'Dairy', 'Food', '8 ct', 'Yoplait', 'Rowan Warehouse')\n",
      "(6, '42086001', 'Italian Dressing', 260, 'Dressings', 'Baking Goods', 'Baking Products', 'Food', '16 oz', 'Wishbone', 'Rowan Warehouse')\n",
      "(7, '42087001', 'Cheeseburger Heat & Serve Sliders', 65, 'Hamburger', 'Meat', 'Meat', 'Food', '29.28 oz', 'White Castle', 'Rowan Warehouse')\n",
      "(8, '42088001', 'Choice Cuts Poultry', 77, 'Fresh Chicken', 'Meat', 'Deli', 'Food', '36 oz', 'Whiskas', 'Rowan Warehouse')\n",
      "(9, '42089001', 'Farmers Pick Concord Grape', 99, 'Fresh Fruit', 'Fruit', 'Produce', 'Food', '46 oz', 'Welchs', 'Rowan Warehouse')\n",
      "(10, '42090001', 'Juice Red Grape', 30, 'Juice', 'Pure Juice Beverages', 'Beverages', 'Drink', '64 oz', 'Welchs', 'Rowan Warehouse')\n"
     ]
    }
   ],
   "source": [
    "#Query to test that the temp table exists and works;\n",
    "\n",
    "cur.execute(\"SELECT * FROM ConformedProducts LIMIT 10\")\n",
    "\n",
    "# Fetch all rows from the result set\n",
    "rows = cur.fetchall()\n",
    "\n",
    "# Print the rows\n",
    "for row in rows:\n",
    "    print(row)\n",
    "\n",
    "conn.commit()\n"
   ]
  },
  {
   "cell_type": "code",
   "execution_count": 32,
   "metadata": {},
   "outputs": [],
   "source": [
    "#create product_class table\n",
    "\n",
    "cur.execute('''CREATE TABLE IF NOT EXISTS product_class (\n",
    "                    product_class_id INTEGER PRIMARY KEY,\n",
    "                    product_subcategory TEXT,\n",
    "                    product_category TEXT,\n",
    "                    product_department TEXT,\n",
    "                    product_family TEXT\n",
    "                )''')\n",
    "\n",
    "# Read data from the text file\n",
    "with open('product_class.txt', 'r') as file:\n",
    "    lines = file.readlines()\n",
    "    # Skip the header line if present\n",
    "    lines = lines[1:] if lines[0].startswith('product_class_id') else lines\n",
    "    # Parse each line and insert into the table\n",
    "    for line in lines:\n",
    "        data = line.strip().split('\\t')\n",
    "        cur.execute('''INSERT INTO product_class (\n",
    "                            product_class_id, \n",
    "                            product_subcategory, \n",
    "                            product_category, \n",
    "                            product_department, \n",
    "                            product_family\n",
    "                        ) \n",
    "                        VALUES (?, ?, ?, ?, ?)''', data)\n",
    "conn.commit()"
   ]
  },
  {
   "cell_type": "code",
   "execution_count": 33,
   "metadata": {},
   "outputs": [
    {
     "name": "stdout",
     "output_type": "stream",
     "text": [
      "(1, 'Nuts', 'Specialty', 'Produce', 'Food')\n",
      "(2, 'Shellfish', 'Seafood', 'Seafood', 'Food')\n",
      "(3, 'Canned Fruit', 'Fruit', 'Canned Products', 'Food')\n",
      "(4, 'Spices', 'Baking Goods', 'Baking Goods', 'Food')\n",
      "(5, 'Pasta', 'Starchy Foods', 'Starchy Foods', 'Food')\n",
      "(6, 'Yogurt', 'Dairy', 'Dairy', 'Food')\n",
      "(7, 'Coffee', 'Dry Goods', 'Baking Goods', 'Drink')\n",
      "(8, 'Deli Meats', 'Meat', 'Deli', 'Food')\n",
      "(9, 'Ice Cream', 'Frozen Desserts', 'Frozen Foods', 'Food')\n",
      "(10, 'TV Dinner', 'Frozen Entrees', 'Frozen Foods', 'Food')\n"
     ]
    }
   ],
   "source": [
    "#Query to test that the temp table exists and works;\n",
    "\n",
    "cur.execute(\"SELECT * FROM product_class LIMIT 10\")\n",
    "\n",
    "# Fetch all rows from the result set\n",
    "rows = cur.fetchall()\n",
    "\n",
    "# Print the rows\n",
    "for row in rows:\n",
    "    print(row)"
   ]
  },
  {
   "cell_type": "code",
   "execution_count": 37,
   "metadata": {},
   "outputs": [],
   "source": [
    "\n",
    "# Create the products table\n",
    "cur.execute('''CREATE TABLE IF NOT EXISTS products (\n",
    "                Manufacturer TEXT,\n",
    "                ProductName TEXT,\n",
    "                Size TEXT,\n",
    "                ItemType TEXT,\n",
    "                SKU TEXT,\n",
    "                BasePrice FLOAT\n",
    "            )''')\n",
    "\n",
    "# Read data from products.txt and insert into the products table\n",
    "with open('products.txt', 'r') as file:\n",
    "    for line in file:\n",
    "        # Split the line using the '|' delimiter\n",
    "        data = line.strip().split('|')\n",
    "        # Insert the data into the products table\n",
    "        cur.execute('INSERT INTO products VALUES (?, ?, ?, ?, ?, ?)', data)\n",
    "\n",
    "# Commit the transaction and close the connection\n",
    "conn.commit()"
   ]
  },
  {
   "cell_type": "code",
   "execution_count": 38,
   "metadata": {},
   "outputs": [
    {
     "name": "stdout",
     "output_type": "stream",
     "text": [
      "('Manufacturer', 'Product Name', 'Size', 'itemType', 'SKU', 'BasePrice')\n",
      "('Zatarains', 'Jambalaya Rice Mix', '12 oz', 'Rice/Rice Mix', '42081001', '$2.49')\n",
      "('Zatarains', 'Jambalaya Rice Mix', '8 oz', 'Rice/Rice Mix', '42082001', '$1.79')\n",
      "('Yucatan', 'Guacamole Regular', '8 oz', '', '42083001', '$3.99')\n",
      "('Yuban', 'Coffee Original Blend', '12 oz', 'Coffee/Creamer', '42084001', '$3.99')\n",
      "('Yoplait', 'GoGurt Variety Pack', '8 ct', 'Yogurt', '42085001', '$2.99')\n",
      "('Wishbone', 'Italian Dressing', '16 oz', 'Salad Dressing', '42086001', '$2.00')\n",
      "('White Castle', 'Cheeseburger Heat & Serve Sliders', '29.28 oz', '', '42087001', '$11.59')\n",
      "('Whiskas', 'Choice Cuts Poultry', '36 oz', 'Pet Food', '42088001', '$4.99')\n",
      "('Welchs', 'Farmers Pick Concord Grape', '46 oz', '', '42089001', '$3.59')\n"
     ]
    }
   ],
   "source": [
    "#Query to test that the temp table exists and works;\n",
    "\n",
    "cur.execute(\"SELECT * FROM products LIMIT 10\")\n",
    "\n",
    "# Fetch all rows from the result set\n",
    "rows = cur.fetchall()\n",
    "\n",
    "# Print the rows\n",
    "for row in rows:\n",
    "    print(row)"
   ]
  }
 ],
 "metadata": {
  "kernelspec": {
   "display_name": "Python 3",
   "language": "python",
   "name": "python3"
  },
  "language_info": {
   "codemirror_mode": {
    "name": "ipython",
    "version": 3
   },
   "file_extension": ".py",
   "mimetype": "text/x-python",
   "name": "python",
   "nbconvert_exporter": "python",
   "pygments_lexer": "ipython3",
   "version": "3.11.5"
  }
 },
 "nbformat": 4,
 "nbformat_minor": 2
}
